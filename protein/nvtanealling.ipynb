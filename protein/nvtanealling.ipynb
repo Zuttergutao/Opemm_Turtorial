{
 "cells": [
  {
   "cell_type": "markdown",
   "metadata": {},
   "source": [
    "# NVT模拟退火\n",
    "先模拟退火，再成品模拟"
   ]
  },
  {
   "cell_type": "code",
   "execution_count": null,
   "metadata": {},
   "outputs": [],
   "source": [
    "from pdbfixer import PDBFixer\n",
    "from openmm.app import PDBFile\n",
    "from openmm.app import *\n",
    "from openmm import *\n",
    "from openmm.unit import *\n",
    "from sys import stdout\n",
    "import MDAnalysis as mda\n",
    "import nglview as nv\n",
    "import numpy as np"
   ]
  },
  {
   "cell_type": "code",
   "execution_count": null,
   "metadata": {},
   "outputs": [],
   "source": [
    "# 与处理蛋白\n",
    "fixer=PDBFixer(pdbid='5xg0')\n",
    "fixer.removeChains(chainIds=[\"B\",\"C\"])\n",
    "fixer.findMissingResidues()\n",
    "fixer.findNonstandardResidues()\n",
    "fixer.replaceNonstandardResidues()\n",
    "fixer.removeHeterogens(keepWater=False)\n",
    "fixer.findMissingAtoms()\n",
    "fixer.addMissingAtoms()\n",
    "fixer.addMissingHydrogens(7.0)\n",
    "fixer.addSolvent(padding=10*angstroms,positiveIon='Na+',negativeIon='Cl-')\n",
    "PDBFile.writeFile(fixer.topology,fixer.positions,open('5xg0_process.pdb','w'))"
   ]
  },
  {
   "cell_type": "code",
   "execution_count": null,
   "metadata": {},
   "outputs": [],
   "source": [
    "# 查看生成的pdb文件\n",
    "view=nv.show_mdanalysis(mda.Universe('5xg0_process.pdb'))\n",
    "view.add_licorice('water',opacity=0.35)\n",
    "view.add_spacefill('ion')\n",
    "view.center('all')\n",
    "view"
   ]
  },
  {
   "cell_type": "code",
   "execution_count": null,
   "metadata": {},
   "outputs": [],
   "source": [
    "# 模拟设置 \n",
    "pdbfile='5xg0_process.pdb' # 处理好的pdb文件\n",
    "\n",
    "nonbondedmethod=PME   # 处理非相互作用力 NoCutoff | CutoffNonPeriodic | CutoffPeriodic | Ewald | PME | LJPME \n",
    "nonbondedcutoff=1*nanometer  # 非键相互作用的阶段距离\n",
    "constraints= HBonds   # 施加约束 None, HBonds, AllBonds, or HAngles\n",
    "removecmmotion=True    # 是否移除质心运动\n",
    "rigidwater = True      # 是否使用刚性水\n",
    "ewaldErrorTolerance = 0.0005  \n",
    "constraintTolerance = 0.000001     \n",
    "hydrogenMass = 1.5*amu   # 氢质量\n",
    "\n",
    "dt = 0.002*picoseconds   # 步长\n",
    "temperature = 300*kelvin   # 模拟温度\n",
    "friction = 1.0/picosecond  # 温度耦合时间\n",
    "pressure = 1.0*atmospheres  # 压力\n",
    "barostatInterval = 25       # 压力耦合步数\n",
    "\n",
    "annealtemp=np.array([300,280,300,320,340,360,340,320,300])   # 模拟退火温度设置\n",
    "annealstep=10000     # 每个温度步数\n",
    "\n",
    "equilibrationSteps=10000    # 平衡步长\n",
    "steps=20000                # 模拟步长\n",
    " \n",
    "dcd=True                    # 是否保存dcd文件\n",
    "dcdstep=1000                # 多少步保存一次轨迹\n",
    "chk=True                    # 是否保存检查点文件\n",
    "chkstep=1000                # 多少步保存一次检查点文件\n",
    "data=stdout               # 以文本格式还是直接输出文件 stdout | 'log.txt\n",
    "datastep=100               # 多少步输出一次运行信息\n",
    "\n",
    "dcdReporter = DCDReporter('trajectory.dcd', dcdstep)\n",
    "dataReporter = StateDataReporter(data,datastep, totalSteps=steps,\n",
    "    step=True, speed=True, progress=True, potentialEnergy=True, temperature=True,density=True,volume=True,separator='\\t')\n",
    "checkpointReporter = CheckpointReporter('checkpoint.chk', chkstep)\n",
    "\n",
    "platform=Platform.getPlatformByName(\"CUDA\")  # 模拟平台 CUDA | CPU |OPENGL\n",
    "properties={\"DeviceIndex\":\"0\",\"Precision\":\"single\"}  # 选择cuda时所使用的显卡，以及需要的精度类型 single double"
   ]
  },
  {
   "cell_type": "code",
   "execution_count": null,
   "metadata": {},
   "outputs": [],
   "source": [
    "pdb=PDBFile(pdbfile)\n",
    "forcefield=ForceField('amber14-all.xml','amber14/tip3p.xml')\n",
    "system=forcefield.createSystem(pdb.topology,nonbondedMethod=nonbondedmethod,\n",
    "                                nonbondedCutoff=nonbondedcutoff,\n",
    "                                constraints=constraints,\n",
    "                                removeCMMotion=removecmmotion,\n",
    "                                rigidWater=rigidwater,\n",
    "                                ewaldErrorTolerance=ewaldErrorTolerance, \n",
    "                                hydrogenMass=hydrogenMass\n",
    "                                )\n"
   ]
  },
  {
   "cell_type": "code",
   "execution_count": null,
   "metadata": {},
   "outputs": [],
   "source": [
    "integrator=LangevinIntegrator(temperature,friction,dt)\n",
    "integrator.setConstraintTolerance(constraintTolerance)\n",
    "simulation=Simulation(pdb.topology,system,integrator,platform)\n",
    "simulation.context.setPositions(pdb.positions)"
   ]
  },
  {
   "cell_type": "code",
   "execution_count": null,
   "metadata": {},
   "outputs": [],
   "source": [
    "# 最小化\n",
    "simulation.minimizeEnergy()"
   ]
  },
  {
   "cell_type": "code",
   "execution_count": null,
   "metadata": {},
   "outputs": [],
   "source": [
    "# 平衡\n",
    "simulation.context.setVelocitiesToTemperature(temperature)\n",
    "simulation.step(equilibrationSteps)"
   ]
  },
  {
   "cell_type": "code",
   "execution_count": null,
   "metadata": {},
   "outputs": [],
   "source": [
    "simulation.currentStep = 0\n",
    "\n",
    "for i in annealtemp:\n",
    "    integrator.setTemperature(i)\n",
    "    simulation.step(annealstep)\n"
   ]
  },
  {
   "cell_type": "code",
   "execution_count": null,
   "metadata": {},
   "outputs": [],
   "source": [
    "# 模拟\n",
    "if dcd:\n",
    "    simulation.reporters.append(dcdReporter)\n",
    "else:\n",
    "    pass\n",
    "simulation.reporters.append(dataReporter)\n",
    "if chk:\n",
    "    simulation.reporters.append(checkpointReporter)\n",
    "else:\n",
    "    pass\n",
    "simulation.currentStep = 0\n",
    "simulation.step(steps)\n",
    "positions=simulation.context.getState(getPositions=True).getPositions()\n",
    "PDBFile.writeFile(simulation.topology,positions,open(\"lastframe.pdb\",\"w\"))"
   ]
  },
  {
   "cell_type": "code",
   "execution_count": null,
   "metadata": {},
   "outputs": [],
   "source": [
    "# 查看生成的pdb文件\n",
    "view=nv.show_mdanalysis(mda.Universe('lastframe.pdb'))\n",
    "view.add_licorice('water',opacity=0.35)\n",
    "view.add_spacefill('ion')\n",
    "view.center('all')\n",
    "view"
   ]
  },
  {
   "cell_type": "code",
   "execution_count": null,
   "metadata": {},
   "outputs": [],
   "source": [
    "traj=nv.show_mdanalysis(mda.Universe('lastframe.pdb','trajectory.dcd'))\n",
    "# traj.add_licorice('water',opacity=0.35)\n",
    "# traj.add_spacefill('ion')\n",
    "traj"
   ]
  },
  {
   "cell_type": "code",
   "execution_count": null,
   "metadata": {},
   "outputs": [],
   "source": []
  }
 ],
 "metadata": {
  "kernelspec": {
   "display_name": "Python 3.10.8 ('openmm')",
   "language": "python",
   "name": "python3"
  },
  "language_info": {
   "codemirror_mode": {
    "name": "ipython",
    "version": 3
   },
   "file_extension": ".py",
   "mimetype": "text/x-python",
   "name": "python",
   "nbconvert_exporter": "python",
   "pygments_lexer": "ipython3",
   "version": "3.10.8"
  },
  "orig_nbformat": 4,
  "vscode": {
   "interpreter": {
    "hash": "32163fd04e19538dc85b40f2ac7ee1a6c81714fdb69bba34f5c3e99e457f651c"
   }
  }
 },
 "nbformat": 4,
 "nbformat_minor": 2
}
