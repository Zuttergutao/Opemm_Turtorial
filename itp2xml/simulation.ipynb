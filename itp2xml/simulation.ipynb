{
 "cells": [
  {
   "cell_type": "code",
   "execution_count": 15,
   "metadata": {},
   "outputs": [],
   "source": [
    "from pdbfixer import PDBFixer\n",
    "from openmm.app import *\n",
    "from openmm import *\n",
    "from openmm.unit import *\n",
    "from sys import stdout\n",
    "import numpy as np\n",
    "import pandas as pd\n",
    "import re\n",
    "import time\n",
    "from datetime import datetime\n",
    "from xml.etree.ElementTree import Element\n",
    "from xml.etree.ElementTree import SubElement\n",
    "from xml.etree.ElementTree import ElementTree\n",
    "import math"
   ]
  },
  {
   "cell_type": "code",
   "execution_count": 16,
   "metadata": {},
   "outputs": [],
   "source": [
    "# 输入文件\n",
    "profile=\"protein.pdb\"\n",
    "liggro=\"LIG.gro\"\n",
    "ligtop=\"LIG_GMX.top\"\n",
    "ligxml=\"lig.xml\"\n",
    "ph=7.0\n",
    "\n",
    "# 系统设置\n",
    "nonbondedMethod = PME\n",
    "nonbondedCutoff = 1.0*nanometers\n",
    "constraints = HBonds\n",
    "rigidWater = True\n",
    "hydrogenMass = 1.5*amu\n",
    "ewaldErrorTolerance = 0.0005\n",
    "constraintTolerance = 0.000001\n",
    "\n",
    "# 积分选项\n",
    "dt = 0.002*picoseconds\n",
    "temperature = 306*kelvin\n",
    "friction = 1.0/picosecond\n",
    "pressure = 1.0*atmospheres\n",
    "barostatInterval = 100\n",
    "\n",
    "# 模拟选项\n",
    "steps = 100000\n",
    "equilibrationSteps = 1000\n",
    "platform = Platform.getPlatformByName('CUDA')\n",
    "recordinpdb=False\n",
    "recordindcd=True\n",
    "stdreport=True\n",
    "pdbreporter = PDBReporter(\"trajectory.pdb\",5000)\n",
    "dcdReporter = DCDReporter('trajectory.dcd', 5000)\n",
    "stdReporter = StateDataReporter(stdout, 1000, totalSteps=steps,\n",
    "    step=True, speed=True, progress=True,kineticEnergy=True, potentialEnergy=True, temperature=True, separator='\\t')\n",
    "dataReporter = StateDataReporter(\"log.txt\", 1000, totalSteps=steps,\n",
    "    step=True, speed=True, progress=True,kineticEnergy=True, potentialEnergy=True, temperature=True, separator='\\t')\n",
    "checkpointReporter = CheckpointReporter('checkpoint.chk', 50000)\n",
    "\n"
   ]
  },
  {
   "cell_type": "code",
   "execution_count": 17,
   "metadata": {},
   "outputs": [
    {
     "name": "stdout",
     "output_type": "stream",
     "text": [
      "处理蛋白中------------\n"
     ]
    }
   ],
   "source": [
    "# 处理蛋白\n",
    "print(\"处理蛋白中--------------------------------\")\n",
    "fixer=PDBFixer(filename=profile)\n",
    "fixer.findMissingResidues()\n",
    "fixer.findNonstandardResidues()\n",
    "fixer.replaceNonstandardResidues()\n",
    "fixer.removeHeterogens(True)\n",
    "fixer.findMissingAtoms()\n",
    "fixer.addMissingAtoms()\n",
    "fixer.addMissingHydrogens(ph)\n",
    "PDBFile.writeFile(fixer.topology,fixer.positions,open(\"protein_fixed.pdb\",\"w\"))\n",
    "print(\"蛋白处理完成------------------------------\")"
   ]
  },
  {
   "cell_type": "code",
   "execution_count": 18,
   "metadata": {},
   "outputs": [],
   "source": [
    "# 处理配体\n",
    "print(\"处理配体中--------------------------------\")\n",
    "gro=GromacsGroFile(liggro)\n",
    "top=GromacsTopFile(ligtop)\n",
    "system = top.createSystem(nonbondedMethod=NoCutoff)\n",
    "integrator = LangevinMiddleIntegrator(300*kelvin, 1/picosecond, 0.004*picoseconds)\n",
    "simulation = Simulation(top.topology, system, integrator)\n",
    "simulation.context.setPositions(gro.positions)\n",
    "simulation.minimizeEnergy()\n",
    "positions=simulation.context.getState(getPositions=True).getPositions()\n",
    "PDBFile.writeFile(simulation.topology,positions,open(\"lig.pdb\",\"w\"))"
   ]
  },
  {
   "cell_type": "code",
   "execution_count": 19,
   "metadata": {},
   "outputs": [
    {
     "name": "stdout",
     "output_type": "stream",
     "text": [
      "合并蛋白-配体并生成模拟体系---------\n"
     ]
    }
   ],
   "source": [
    "# 合并蛋白和配体并生成盒子\n",
    "print(\"合并蛋白-配体并生成模拟体系---------------\")\n",
    "lig=PDBFile(\"lig.pdb\")\n",
    "pro=PDBFile(\"protein_fixed.pdb\")\n",
    "modeller=Modeller(pro.topology,pro.positions)\n",
    "modeller.add(lig.topology,lig.positions)\n",
    "forcefield=ForceField(\"amber14-all.xml\",\"amber14/tip3p.xml\",ligxml)\n",
    "modeller.addSolvent(padding=8*angstrom,forcefield=forcefield,neutralize=True)\n",
    "mergedTopology=modeller.topology\n",
    "mergedPositions=modeller.positions\n",
    "PDBFile.writeFile(mergedTopology,mergedPositions,open(\"complex.pdb\",\"w\"))\n"
   ]
  },
  {
   "cell_type": "code",
   "execution_count": 20,
   "metadata": {},
   "outputs": [
    {
     "name": "stdout",
     "output_type": "stream",
     "text": [
      "模拟准备中---------------\n"
     ]
    }
   ],
   "source": [
    "# 构建模拟系统\n",
    "print(\"模拟准备中--------------------------------\")\n",
    "system=forcefield.createSystem(mergedTopology,nonbondedMethod=nonbondedMethod,nonbondedCutoff=nonbondedCutoff,\n",
    "        constraints=constraints,rigidWater=rigidWater, ewaldErrorTolerance=ewaldErrorTolerance,hydrogenMass=hydrogenMass)\n",
    "system.addForce(MonteCarloBarostat(pressure, temperature, barostatInterval))\n",
    "integrator = LangevinMiddleIntegrator(temperature, friction, dt)\n",
    "integrator.setConstraintTolerance(constraintTolerance)\n",
    "simulation = Simulation(mergedTopology, system, integrator, platform)\n",
    "simulation.context.setPositions(mergedPositions)"
   ]
  },
  {
   "cell_type": "code",
   "execution_count": 21,
   "metadata": {},
   "outputs": [
    {
     "name": "stdout",
     "output_type": "stream",
     "text": [
      "能量最小化------------\n"
     ]
    }
   ],
   "source": [
    "# 最小化\n",
    "print(\"能量最小化--------------------------------\")\n",
    "simulation.minimizeEnergy()\n"
   ]
  },
  {
   "cell_type": "code",
   "execution_count": 22,
   "metadata": {},
   "outputs": [
    {
     "name": "stdout",
     "output_type": "stream",
     "text": [
      "平衡中---------\n"
     ]
    }
   ],
   "source": [
    "# 预平衡\n",
    "print(\"平衡中------------------------------------\")\n",
    "simulation.context.setVelocitiesToTemperature(temperature)\n",
    "simulation.step(equilibrationSteps)"
   ]
  },
  {
   "cell_type": "code",
   "execution_count": 23,
   "metadata": {},
   "outputs": [
    {
     "name": "stdout",
     "output_type": "stream",
     "text": [
      "Simulating-----------\n",
      "#\"Progress (%)\"\t\"Step\"\t\"Potential Energy (kJ/mole)\"\t\"Kinetic Energy (kJ/mole)\"\t\"Temperature (K)\"\t\"Speed (ns/day)\"\n",
      "1.0%\t1000\t-1475235.0929329796\t295248.14293694176\t297.9030245092713\t0\n",
      "2.0%\t2000\t-1462387.306404342\t302507.9292460726\t305.228091069446\t58\n",
      "3.0%\t3000\t-1460528.3182784254\t303362.5352094023\t306.0903816793279\t65.7\n",
      "4.0%\t4000\t-1457732.3182784254\t302322.2686517459\t305.0407610085964\t68.4\n",
      "5.0%\t5000\t-1461246.2996952506\t303435.1211558023\t306.163620321083\t65.1\n",
      "6.0%\t6000\t-1461067.9328578245\t302196.5645154257\t304.9139265363094\t66.8\n",
      "7.0%\t7000\t-1460825.1439040322\t301626.88402334857\t304.3391234574296\t68.1\n",
      "8.0%\t8000\t-1461209.9049189473\t302556.4255117976\t305.2770234152795\t69\n",
      "9.0%\t9000\t-1462883.4241621615\t303378.56306808913\t306.1065536610776\t69.6\n",
      "10.0%\t10000\t-1463489.9241621615\t303372.29675512714\t306.1002310012114\t66.1\n",
      "11.0%\t11000\t-1464424.2554459833\t304627.4822000516\t307.36670311732183\t66.8\n",
      "12.0%\t12000\t-1463061.2554459833\t303617.99502138066\t306.3481385948224\t67.4\n",
      "13.0%\t13000\t-1465415.347455632\t304730.27561087336\t307.4704208500697\t67.7\n",
      "14.0%\t14000\t-1463475.5184870185\t302528.57309528516\t305.2489205488688\t68\n",
      "15.0%\t15000\t-1464790.9428472053\t303287.8258100271\t306.01500049043443\t65.6\n",
      "16.0%\t16000\t-1465259.1975592887\t305318.2787964404\t308.06371138073666\t66.1\n",
      "17.0%\t17000\t-1466019.517244894\t303533.4290588031\t306.2628122121675\t66.6\n",
      "18.0%\t18000\t-1464652.668642627\t304629.2200824866\t307.3684566268561\t67.1\n",
      "19.0%\t19000\t-1466135.493284612\t303813.49910186545\t306.54540065480006\t67.4\n",
      "20.0%\t20000\t-1467203.9445297197\t302524.3564063159\t305.2446659432857\t67.1\n",
      "21.0%\t21000\t-1465342.0918939793\t303721.40964271926\t306.4524831240337\t67.4\n",
      "22.0%\t22000\t-1462381.3232953297\t301893.5718976608\t304.6082093983851\t67.7\n",
      "23.0%\t23000\t-1466834.0732997283\t305773.66631666524\t308.5231937613853\t68\n",
      "24.0%\t24000\t-1466640.3328667767\t304490.553865367\t307.22854351828835\t68.2\n",
      "25.0%\t25000\t-1466477.8328667767\t302278.8575174553\t304.99695951987604\t67.2\n",
      "26.0%\t26000\t-1466369.7755683092\t303358.6420588684\t306.0864535214489\t67.4\n",
      "27.0%\t27000\t-1467204.634797302\t304589.4175179886\t307.3282961563135\t67.7\n",
      "28.0%\t28000\t-1464703.9445132213\t303731.0548932274\t306.4622151049699\t67.9\n",
      "29.0%\t29000\t-1466561.3469490325\t305010.723278962\t307.7533903133459\t68.1\n",
      "30.0%\t30000\t-1468257.361508673\t304125.67042223335\t306.86037903054046\t67.9\n",
      "31.0%\t31000\t-1464710.6166852284\t303721.1548402185\t306.45222603033994\t68.1\n",
      "32.0%\t32000\t-1468096.232446476\t303250.88450668263\t305.97772700960525\t68.2\n",
      "33.0%\t33000\t-1467283.0381075582\t303041.97268222936\t305.7669366427589\t68.4\n",
      "34.0%\t34000\t-1470169.119414037\t303518.46290978865\t306.24771148702047\t68.6\n",
      "35.0%\t35000\t-1469663.315231937\t303391.6172734442\t306.1197252503013\t67.9\n",
      "36.0%\t36000\t-1469488.2013647612\t302234.85047117167\t304.9525567607013\t68\n",
      "37.0%\t37000\t-1467714.5544527462\t303243.0463477081\t305.96981836963255\t68.2\n",
      "38.0%\t38000\t-1468452.6236262685\t305082.29763552325\t307.8256082690113\t68.3\n",
      "39.0%\t39000\t-1466596.1295144316\t303440.9298627428\t306.16948126011835\t68.5\n",
      "40.0%\t40000\t-1468223.3967897445\t304689.255011584\t307.42903139212444\t67.8\n",
      "41.0%\t41000\t-1468686.9563262695\t303722.15698706894\t306.4532371885297\t67.9\n",
      "42.0%\t42000\t-1466125.8217656072\t302491.0365529335\t305.2110464766226\t68.1\n",
      "43.0%\t43000\t-1470420.190812569\t303827.5449570276\t306.5595728107804\t68.2\n",
      "44.0%\t44000\t-1467725.0811638068\t303687.93419406813\t306.4187066629837\t68.4\n",
      "45.0%\t45000\t-1465631.3380875718\t303400.08909220435\t306.12827324795046\t68.2\n",
      "46.0%\t46000\t-1466324.4303679885\t304534.626984017\t307.2730129439544\t68.3\n",
      "47.0%\t47000\t-1466329.8672074676\t304491.75260498916\t307.22975303701884\t68.4\n",
      "48.0%\t48000\t-1467130.4188403059\t303757.0031220976\t306.48839666121677\t68.5\n",
      "49.0%\t49000\t-1467769.7783811754\t303738.46103168104\t306.46968783967816\t68.6\n",
      "50.0%\t50000\t-1465546.241550438\t304459.4630618684\t307.19717314520307\t68.1\n",
      "51.0%\t51000\t-1466354.8657308286\t303464.4583108\t306.193221276799\t68.2\n",
      "52.0%\t52000\t-1467962.622718107\t305270.96932873956\t308.01597650465646\t68.3\n",
      "53.0%\t53000\t-1467560.1873294916\t304270.52306634\t307.00653419466204\t68.4\n",
      "54.0%\t54000\t-1466059.1794108553\t303172.9542437307\t305.8990959950178\t68.5\n",
      "55.0%\t55000\t-1466262.8512366125\t304392.18072369613\t307.1292858019053\t68.1\n",
      "56.0%\t56000\t-1467929.4077079538\t304070.5218816745\t306.8047345923864\t68.2\n",
      "57.0%\t57000\t-1467813.0986967543\t303811.0805967895\t306.5429604024423\t68.3\n",
      "58.0%\t58000\t-1465969.7645686967\t303807.178300789\t306.5390230168604\t68.4\n",
      "59.0%\t59000\t-1468365.87119589\t303561.9870201102\t306.2916269676561\t68.5\n",
      "60.0%\t60000\t-1468562.7980359513\t302873.4631073993\t305.5969118239699\t68.2\n",
      "61.0%\t61000\t-1469393.887636681\t302833.9108345553\t305.5570038957125\t68.3\n",
      "62.0%\t62000\t-1470134.0125395395\t304394.360997925\t307.13148568123586\t68.4\n",
      "63.0%\t63000\t-1469152.4242518675\t302904.8202925026\t305.62855097397244\t68.5\n",
      "64.0%\t64000\t-1470137.8086014763\t302492.85785284056\t305.21288415372175\t68.6\n",
      "65.0%\t65000\t-1469767.0632292768\t304231.23533238686\t306.9668931840385\t68.2\n",
      "66.0%\t66000\t-1468493.576567906\t303676.6235331439\t306.407294296203\t68.3\n",
      "67.0%\t67000\t-1468271.271868581\t302978.25773537677\t305.7026487688877\t68.4\n",
      "68.0%\t68000\t-1468970.3291327236\t305322.06612474466\t308.0675327648288\t68.5\n",
      "69.0%\t69000\t-1465984.155545448\t301374.1682348745\t304.0841352397941\t68.6\n",
      "70.0%\t70000\t-1465027.861084641\t303301.40816424193\t306.02870497765093\t68.4\n",
      "71.0%\t71000\t-1466517.5635876032\t304223.21679168934\t306.9588025403441\t68.5\n",
      "72.0%\t72000\t-1465531.333626072\t303996.8883333432\t306.730438928627\t68.6\n",
      "73.0%\t73000\t-1467560.4503399841\t303681.4635086573\t306.41217779294453\t68.7\n",
      "74.0%\t74000\t-1469495.238983553\t302813.8249782264\t305.5367374266648\t68.7\n",
      "75.0%\t75000\t-1467780.0759447375\t302662.04717752285\t305.3835948346973\t68.4\n",
      "76.0%\t76000\t-1467604.2003106754\t304319.84667848994\t307.0563013264483\t68.4\n",
      "77.0%\t77000\t-1467276.2057878403\t304672.12692208024\t307.41174928624406\t68.5\n",
      "78.0%\t78000\t-1466259.2973183123\t303489.16775080096\t306.218152904944\t68.6\n",
      "79.0%\t79000\t-1467188.455769348\t302459.8312085469\t305.17956053269364\t68.7\n",
      "80.0%\t80000\t-1466914.708365905\t302680.86359678226\t305.4025804518533\t68.3\n",
      "81.0%\t81000\t-1468829.8857349213\t302567.96137103287\t305.2886630053623\t68.4\n",
      "82.0%\t82000\t-1470778.5738709783\t303473.4925143501\t306.20233671622174\t68.4\n",
      "83.0%\t83000\t-1469296.7393208146\t303150.64109600603\t305.87658220669255\t68.5\n",
      "84.0%\t84000\t-1469088.5212633172\t304417.11764809606\t307.15444695999696\t68.6\n",
      "85.0%\t85000\t-1468151.1339489222\t304246.36939568655\t306.9821633333618\t68.5\n",
      "86.0%\t86000\t-1468021.802547356\t304120.31204076484\t306.85497246631945\t68.6\n",
      "87.0%\t87000\t-1467460.963128795\t304183.5196520384\t306.9187484426324\t68.6\n",
      "88.0%\t88000\t-1467001.4723448139\t303911.51961253444\t306.6443025693109\t68.7\n",
      "89.0%\t89000\t-1467500.2327219276\t303268.0680479668\t305.9950650658904\t68.7\n",
      "90.0%\t90000\t-1466815.2305686343\t304121.2996963349\t306.85596900292273\t68.4\n",
      "91.0%\t91000\t-1468911.908535718\t303284.99324964575\t306.01214245957163\t68.5\n",
      "92.0%\t92000\t-1468996.8953935532\t305402.5848616953\t308.1487755290632\t68.6\n",
      "93.0%\t93000\t-1466834.914667583\t304200.16135941504\t306.9355397928207\t68.6\n",
      "94.0%\t94000\t-1467021.1021501804\t304082.32421918766\t306.8166430569291\t68.7\n",
      "95.0%\t95000\t-1470199.055175322\t303335.7943941335\t306.06340040971793\t68.6\n",
      "96.0%\t96000\t-1468694.4159939867\t304488.87575684924\t307.2268503201604\t68.6\n",
      "97.0%\t97000\t-1467101.4935769187\t303186.361028178\t305.91262333373726\t68.7\n",
      "98.0%\t98000\t-1468560.0387542006\t303373.0280118198\t306.10096883338974\t68.7\n",
      "99.0%\t99000\t-1469132.042999979\t304298.36105144443\t307.034622499897\t68.8\n",
      "100.0%\t100000\t-1468127.7531100651\t302084.9762501407\t304.80133486546106\t68.5\n"
     ]
    }
   ],
   "source": [
    "# 成品模拟\n",
    "print(\"Simulating--------------------------------\")\n",
    "if recordinpdb:\n",
    "    simulation.reporters.append(pdbreporter)\n",
    "if recordindcd:\n",
    "    simulation.reporters.append(dcdReporter)\n",
    "if stdreport:\n",
    "    simulation.reporters.append(stdReporter)\n",
    "simulation.reporters.append(dataReporter)\n",
    "simulation.reporters.append(checkpointReporter)\n",
    "simulation.currentStep = 0\n",
    "simulation.step(steps)"
   ]
  }
 ],
 "metadata": {
  "kernelspec": {
   "display_name": "Python 3.10.8 ('openmm')",
   "language": "python",
   "name": "python3"
  },
  "language_info": {
   "codemirror_mode": {
    "name": "ipython",
    "version": 3
   },
   "file_extension": ".py",
   "mimetype": "text/x-python",
   "name": "python",
   "nbconvert_exporter": "python",
   "pygments_lexer": "ipython3",
   "version": "3.10.8"
  },
  "orig_nbformat": 4,
  "vscode": {
   "interpreter": {
    "hash": "32163fd04e19538dc85b40f2ac7ee1a6c81714fdb69bba34f5c3e99e457f651c"
   }
  }
 },
 "nbformat": 4,
 "nbformat_minor": 2
}
