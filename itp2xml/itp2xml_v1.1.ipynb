{
 "cells": [
  {
   "cell_type": "code",
   "execution_count": 1,
   "metadata": {},
   "outputs": [],
   "source": [
    "import numpy as np\n",
    "import pandas as pd\n",
    "import re\n",
    "import time\n",
    "from datetime import datetime\n",
    "from xml.etree.ElementTree import Element\n",
    "from xml.etree.ElementTree import SubElement\n",
    "from xml.etree.ElementTree import ElementTree\n",
    "import math\n"
   ]
  },
  {
   "cell_type": "code",
   "execution_count": 2,
   "metadata": {},
   "outputs": [],
   "source": [
    "with open(\"LIG_GMX.itp\") as f:\n",
    "    lines=f.readlines()"
   ]
  },
  {
   "cell_type": "code",
   "execution_count": 3,
   "metadata": {},
   "outputs": [],
   "source": [
    "# elemnt为传进来的Elment类，参数indent用于缩进，newline用于换行   \n",
    "def prettyXml(element, indent, newline, level = 0): \n",
    "    # 判断element是否有子元素\n",
    "    if element:\n",
    "        # 如果element的text没有内容      \n",
    "        if element.text == None or element.text.isspace():     \n",
    "            element.text = newline + indent * (level + 1)      \n",
    "        else:    \n",
    "            element.text = newline + indent * (level + 1) + element.text.strip() + newline + indent * (level + 1)    \n",
    "    # 此处两行如果把注释去掉，Element的text也会另起一行 \n",
    "    #else:     \n",
    "        #element.text = newline + indent * (level + 1) + element.text.strip() + newline + indent * level    \n",
    "    temp = list(element) # 将elemnt转成list    \n",
    "    for subelement in temp:    \n",
    "        # 如果不是list的最后一个元素，说明下一个行是同级别元素的起始，缩进应一致\n",
    "        if temp.index(subelement) < (len(temp) - 1):     \n",
    "            subelement.tail = newline + indent * (level + 1)    \n",
    "        else:  # 如果是list的最后一个元素， 说明下一行是母元素的结束，缩进应该少一个    \n",
    "            subelement.tail = newline + indent * level   \n",
    "        # 对子元素进行递归操作 \n",
    "        prettyXml(subelement, indent, newline, level = level + 1)     \n",
    "        "
   ]
  },
  {
   "cell_type": "code",
   "execution_count": 4,
   "metadata": {},
   "outputs": [],
   "source": [
    "ForceField = Element('ForceField')\n",
    "info = SubElement(ForceField, 'Info')\n",
    "DataGenerated=SubElement(info,\"DataGenerated\")\n",
    "DataGenerated.text=str(datetime.today())\n",
    "Source =SubElement(info,\"Source\")\n",
    "Source.text=lines[0].strip(\";\")\n",
    "Reference=SubElement(info,\"Reference\")\n",
    "Reference.text=\"itp2xml (version 1.1) was developed by Casea; 2023.03.03\""
   ]
  },
  {
   "cell_type": "code",
   "execution_count": 5,
   "metadata": {},
   "outputs": [],
   "source": [
    "namelists={}\n",
    "nameindex=[]\n",
    "count=0\n",
    "for index,line in enumerate(lines):\n",
    "    if line.strip().startswith(\"[\"):\n",
    "        name=re.findall(re.compile(r\"^\\[([\\sa-zA-Z]+)\\]\"),line)\n",
    "        try:\n",
    "            if line.split(\";\")[1].strip() == \"impropers\":\n",
    "                name[0]=\"imdiherdrals\"\n",
    "            elif line.split(\";\")[1].strip() == \"propers\":\n",
    "                name[0]=\"diherdrals\"\n",
    "        except:\n",
    "            pass\n",
    "        namelists[name[0].strip()]=count\n",
    "        nameindex.append(index)\n",
    "        count=count+1\n",
    "namelists[\"empty\"]=count\n",
    "nameindex.append(-1)"
   ]
  },
  {
   "cell_type": "code",
   "execution_count": 6,
   "metadata": {},
   "outputs": [],
   "source": [
    "# atoms\n",
    "atoms=[]\n",
    "for line in lines[nameindex[namelists[\"atoms\"]]+1:nameindex[namelists[\"atoms\"]+1]]:\n",
    "    if line.startswith(\";\") or line.isspace():\n",
    "        pass\n",
    "    else:\n",
    "        atoms.append(line.split())\n",
    "\n",
    "# bonds\n",
    "bonds=[]\n",
    "for line in lines[nameindex[namelists[\"bonds\"]]+1:nameindex[namelists[\"bonds\"]+1]]:\n",
    "    if line.startswith(\";\") or line.isspace():\n",
    "        pass\n",
    "    else:\n",
    "        bonds.append(line.split())\n",
    "\n",
    "\n",
    "# angles\n",
    "angles=[]\n",
    "for line in lines[nameindex[namelists[\"angles\"]]+1:nameindex[namelists[\"angles\"]+1]]:\n",
    "    if line.startswith(\";\") or line.isspace():\n",
    "        pass\n",
    "    else:\n",
    "        angles.append(line.split())\n",
    "\n",
    "# diherdrals\n",
    "diherdrals=[]\n",
    "for line in lines[nameindex[namelists[\"diherdrals\"]]+1:nameindex[namelists[\"diherdrals\"]+1]]:\n",
    "    if line.startswith(\";\") or line.isspace():\n",
    "        pass\n",
    "    else:\n",
    "        diherdrals.append(line.split())\n",
    "\n",
    "# pair\n",
    "pairs=[]\n",
    "for line in lines[nameindex[namelists[\"pairs\"]]+1:nameindex[namelists[\"pairs\"]+1]]:\n",
    "    if line.startswith(\";\") or line.isspace():\n",
    "        pass\n",
    "    else:\n",
    "        pairs.append(line.split())\n",
    "\n",
    "# imdihedral\n",
    "imdiherdrals=[]\n",
    "for line in lines[nameindex[namelists[\"imdiherdrals\"]]+1:nameindex[namelists[\"imdiherdrals\"]+1]]:\n",
    "    if line.startswith(\";\") or line.isspace():\n",
    "        pass\n",
    "    else:\n",
    "        imdiherdrals.append(line.split())\n"
   ]
  },
  {
   "cell_type": "code",
   "execution_count": 7,
   "metadata": {},
   "outputs": [],
   "source": [
    "# Atomtypes\n",
    "atomtypes=[]\n",
    "for line in lines[nameindex[namelists[\"atomtypes\"]]+1:nameindex[namelists[\"atomtypes\"]+1]]:\n",
    "    if line.startswith(\";\") or line.isspace():\n",
    "        pass\n",
    "    else:\n",
    "        atomtypes.append(line.split())\n",
    "\n",
    "AtomTypes=SubElement(ForceField,\"AtomTypes\")\n",
    "\n",
    "atomtypeslist={}\n",
    "for i in range(len(atomtypes)):\n",
    "    atomtypeslist[atomtypes[i][0]]=atomtypes[i][2]\n",
    "\n",
    "\n",
    "atlist={}\n",
    "for i in range(len(atoms)):\n",
    "    atlist[\"atom_\"+str(i)]= SubElement(AtomTypes,\"Type\")\n",
    "    atlist[\"atom_\"+str(i)].set(\"class\",atoms[i][1])\n",
    "    atlist[\"atom_\"+str(i)].set(\"element\",atoms[i][1][0].upper())\n",
    "    atlist[\"atom_\"+str(i)].set(\"mass\",atoms[i][7])\n",
    "    atlist[\"atom_\"+str(i)].set(\"name\",\"LIG-\"+atoms[i][4])\n",
    "\n",
    "epsilonlist={}\n",
    "for i in range(len(atomtypes)):\n",
    "    epsilonlist[atomtypes[i][0]]=atomtypes[i][5]\n",
    "\n",
    "sigmalist={}\n",
    "for i in range(len(atomtypes)):\n",
    "    sigmalist[atomtypes[i][0]]=atomtypes[i][6]"
   ]
  },
  {
   "cell_type": "code",
   "execution_count": 8,
   "metadata": {},
   "outputs": [],
   "source": [
    "# Residue\n",
    "Residues=SubElement(ForceField,\"Residues\")\n",
    "Residue=SubElement(Residues,\"Residue\")\n",
    "Residue.set(\"name\",atoms[0][3])\n",
    "atomslist={}\n",
    "for i in range(len(atoms)):\n",
    "    atomslist[\"atom_\"+str(i)]= SubElement(Residue,\"Atom\")\n",
    "    atomslist[\"atom_\"+str(i)].set(\"charge\",atoms[i][6])\n",
    "    atomslist[\"atom_\"+str(i)].set(\"name\",atoms[i][4])\n",
    "    atomslist[\"atom_\"+str(i)].set(\"type\",\"LIG-\"+atoms[i][4])\n",
    "\n",
    "for i in range(len(bonds)):\n",
    "    atomslist[\"bond_\"+str(i)]= SubElement(Residue,\"Bond\")\n",
    "    atomslist[\"bond_\"+str(i)].set(\"atomName1\",atoms[int(bonds[i][0])-1][4])\n",
    "    atomslist[\"bond_\"+str(i)].set(\"atomName2\",atoms[int(bonds[i][1])-1][4])"
   ]
  },
  {
   "cell_type": "code",
   "execution_count": 9,
   "metadata": {},
   "outputs": [],
   "source": [
    "# HarmonicBondForce\n",
    "HarmonicBondForce=SubElement(ForceField,\"HarmonicBondForce\")\n",
    "Bondlist={}\n",
    "for i in range(len(bonds)):\n",
    "    Bondlist[\"bond_\"+str(i)]=SubElement(HarmonicBondForce,\"Bond\")\n",
    "    Bondlist[\"bond_\"+str(i)].set(\"k\",str(eval(bonds[i][4])))\n",
    "    Bondlist[\"bond_\"+str(i)].set(\"length\",str(eval(bonds[i][3])))\n",
    "    Bondlist[\"bond_\"+str(i)].set(\"type1\",\"LIG-\"+atoms[int(bonds[i][0])-1][4])\n",
    "    Bondlist[\"bond_\"+str(i)].set(\"type2\",\"LIG-\"+atoms[int(bonds[i][1])-1][4])"
   ]
  },
  {
   "cell_type": "code",
   "execution_count": 10,
   "metadata": {},
   "outputs": [],
   "source": [
    "# HarmonicAngleForce\n",
    "HarmonicAngleForce=SubElement(ForceField,\"HarmonicAngleForce\")\n",
    "Anglelist={}\n",
    "for i in range(len(angles)):\n",
    "    Anglelist[\"angle_\"+str(i)]=SubElement(HarmonicAngleForce,\"Angle\")\n",
    "    Anglelist[\"angle_\"+str(i)].set(\"angle\",str(math.radians(float(angles[i][4]))))\n",
    "    Anglelist[\"angle_\"+str(i)].set(\"k\",str(eval(angles[i][5])))\n",
    "    Anglelist[\"angle_\"+str(i)].set(\"type1\",\"LIG-\"+atoms[int(angles[i][0])-1][4])\n",
    "    Anglelist[\"angle_\"+str(i)].set(\"type2\",\"LIG-\"+atoms[int(angles[i][1])-1][4])\n",
    "    Anglelist[\"angle_\"+str(i)].set(\"type3\",\"LIG-\"+atoms[int(angles[i][2])-1][4])"
   ]
  },
  {
   "cell_type": "code",
   "execution_count": 11,
   "metadata": {},
   "outputs": [],
   "source": [
    "# PeriodicTorsionForce\n",
    "PeriodicTorsionForce=SubElement(ForceField,\"PeriodicTorsionForce\")\n",
    "PeriodicTorsionForce.set(\"ordering\",\"amber\")\n",
    "\n",
    "dihehrallist={}\n",
    "for i in range(len(diherdrals)):\n",
    "    dihehrallist[\"proper_\"+str(i)]=SubElement(PeriodicTorsionForce,\"Proper\")\n",
    "    dihehrallist[\"proper_\"+str(i)].set(\"k1\",diherdrals[i][6])\n",
    "    dihehrallist[\"proper_\"+str(i)].set(\"periodicity1\",diherdrals[i][7])\n",
    "    dihehrallist[\"proper_\"+str(i)].set(\"phase1\",str(math.radians(float(diherdrals[i][5]))))\n",
    "    dihehrallist[\"proper_\"+str(i)].set(\"type1\",\"LIG-\"+atoms[int(diherdrals[i][0])-1][4])\n",
    "    dihehrallist[\"proper_\"+str(i)].set(\"type2\",\"LIG-\"+atoms[int(diherdrals[i][1])-1][4])\n",
    "    dihehrallist[\"proper_\"+str(i)].set(\"type3\",\"LIG-\"+atoms[int(diherdrals[i][2])-1][4])\n",
    "    dihehrallist[\"proper_\"+str(i)].set(\"type4\",\"LIG-\"+atoms[int(diherdrals[i][3])-1][4])\n",
    "\n",
    "for i in range(len(imdiherdrals)):\n",
    "    dihehrallist[\"improper_\"+str(i)]=SubElement(PeriodicTorsionForce,\"Improper\")\n",
    "    dihehrallist[\"improper_\"+str(i)].set(\"k1\",imdiherdrals[i][6])\n",
    "    dihehrallist[\"improper_\"+str(i)].set(\"periodicity1\",imdiherdrals[i][7])\n",
    "    dihehrallist[\"improper_\"+str(i)].set(\"phase1\",str(math.radians(float(imdiherdrals[i][5]))))\n",
    "    dihehrallist[\"improper_\"+str(i)].set(\"type1\",\"LIG-\"+atoms[int(imdiherdrals[i][0])-1][4])\n",
    "    dihehrallist[\"improper_\"+str(i)].set(\"type2\",\"LIG-\"+atoms[int(imdiherdrals[i][1])-1][4])\n",
    "    dihehrallist[\"improper_\"+str(i)].set(\"type3\",\"LIG-\"+atoms[int(imdiherdrals[i][2])-1][4])\n",
    "    dihehrallist[\"improper_\"+str(i)].set(\"type4\",\"LIG-\"+atoms[int(imdiherdrals[i][3])-1][4])"
   ]
  },
  {
   "cell_type": "code",
   "execution_count": 12,
   "metadata": {},
   "outputs": [],
   "source": [
    "NonbondedForce=SubElement(ForceField,\"NonbondedForce\")\n",
    "NonbondedForce.set(\"coulomb14scale\",\"0.8333333333333334\")\n",
    "NonbondedForce.set(\"lj14scale\",\"0.5\")\n",
    "# UseAttributeFromResidue=SubElement(NonbondedForce,\"UseAttributeFromResidue\")\n",
    "# UseAttributeFromResidue.set(\"name\",\"charge\")\n",
    "atomtypeslist={}\n",
    "for i in range(len(atoms)):\n",
    "    atomtypeslist[\"Atom_\"+str(i)]= SubElement(NonbondedForce,\"Atom\")\n",
    "    atomtypeslist[\"Atom_\"+str(i)].set(\"epsilon\",str(eval(epsilonlist[atoms[i][1]])))\n",
    "    atomtypeslist[\"Atom_\"+str(i)].set(\"sigma\",str(eval(sigmalist[atoms[i][1]])))\n",
    "    atomtypeslist[\"Atom_\"+str(i)].set(\"charge\",atoms[i][6])\n",
    "    atomtypeslist[\"Atom_\"+str(i)].set(\"type\",\"LIG-\"+atoms[i][4])"
   ]
  },
  {
   "cell_type": "code",
   "execution_count": 13,
   "metadata": {},
   "outputs": [],
   "source": [
    "tree = ElementTree(ForceField)\n",
    "root = tree.getroot()                  #得到根元素，Element类    \n",
    "prettyXml(root, '\\t', '\\n')            #执行美化方法    \n",
    "# write out xml data\n",
    "tree.write('lig.xml', encoding = 'utf-8')"
   ]
  }
 ],
 "metadata": {
  "kernelspec": {
   "display_name": "Python 3.10.8 ('openmm')",
   "language": "python",
   "name": "python3"
  },
  "language_info": {
   "codemirror_mode": {
    "name": "ipython",
    "version": 3
   },
   "file_extension": ".py",
   "mimetype": "text/x-python",
   "name": "python",
   "nbconvert_exporter": "python",
   "pygments_lexer": "ipython3",
   "version": "3.10.8"
  },
  "orig_nbformat": 4,
  "vscode": {
   "interpreter": {
    "hash": "32163fd04e19538dc85b40f2ac7ee1a6c81714fdb69bba34f5c3e99e457f651c"
   }
  }
 },
 "nbformat": 4,
 "nbformat_minor": 2
}
